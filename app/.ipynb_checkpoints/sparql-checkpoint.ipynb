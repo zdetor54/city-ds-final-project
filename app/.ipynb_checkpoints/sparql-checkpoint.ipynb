{
 "cells": [
  {
   "cell_type": "code",
   "execution_count": 1,
   "metadata": {},
   "outputs": [],
   "source": [
    "from rdflib import Graph\n",
    "from SPARQLWrapper import SPARQLWrapper, JSON, N3\n",
    "from pprint import pprint\n",
    "# import requests"
   ]
  },
  {
   "cell_type": "code",
   "execution_count": null,
   "metadata": {},
   "outputs": [],
   "source": [
    "\n",
    "candidate_cells = ['Wien', 'Thessaloniki', 'Batumi', 'Limassol', 'Ganja'\n",
    ", 'Capital City of Budapest', 'Kharkiv (Харків)', 'Luzern', 'Korzeniew', 'Almaty', 'Kaunas', 'Haraçinë', 'Poitiers', 'Tallinn',\n",
    " 'Ljubljana', 'Երևան', 'Pristina', 'Tuzla', 'Bergen', 'Budapest főváros', 'Istanbul', 'Cwmffrwd', 'Yerevan']\n",
    "\n",
    "def dbo_sparql_results(query_string):\n",
    "    sparql = SPARQLWrapper('https://dbpedia.org/sparql')\n",
    "    sparql.setQuery(query_string)\n",
    "    \n",
    "    try:\n",
    "        sparql.setReturnFormat(JSON)\n",
    "        qres = sparql.query().convert()\n",
    "        return qres\n",
    "    except:\n",
    "        pass\n",
    "\n",
    "\n",
    "def get_dbo_classes_sparql(candidate_cells):\n",
    "    \n",
    "    classes = list([])\n",
    "\n",
    "    dbo_prefix = 'http://dbpedia.org/ontology/'\n",
    "    for cell in candidate_cells:\n",
    "        print(f'###################{cell}########################')\n",
    "        query_string = f'''\n",
    "        SELECT ?class\n",
    "        WHERE {{ dbr:{cell} a ?class.\n",
    "        }}'''\n",
    "    \n",
    "#         query_string = f'''\n",
    "#         select distinct ?superclass \n",
    "#         where {{dbr:{cell} rdf:type ?e. \n",
    "#             ?e rdfs:subClassOf* ?superclass.\n",
    "#         FILTER (strstarts(str(?superclass), '{dbo_prefix}'))}}'''\n",
    "        \n",
    "#         print(query_string)\n",
    "    \n",
    "        qres = dbo_sparql_results(query_string)\n",
    "#         pprint(qres)\n",
    "        try:\n",
    "            for entity_class in qres['results']['bindings']:\n",
    "                if dbo_prefix in entity_class[list(qres['results']['bindings'][1].keys())[0]]['value']:\n",
    "                    candicate_class = entity_class[list(qres['results']['bindings'][1].keys())[0]]['value'].split(dbo_prefix)[1]\n",
    "                    classes.append(candicate_class)\n",
    "                    print(candicate_class)\n",
    "        except:\n",
    "            pass\n",
    "    return set(classes)\n",
    "\n",
    "classes = get_dbo_classes_sparql(candidate_cells)\n",
    "classes"
   ]
  },
  {
   "cell_type": "code",
   "execution_count": 2,
   "metadata": {},
   "outputs": [
    {
     "name": "stdout",
     "output_type": "stream",
     "text": [
      "###################GovernmentAgency########################\n",
      "###################Eukaryote########################\n",
      "###################PeriodicalLiterature########################\n"
     ]
    }
   ],
   "source": [
    "def get_dbo_class_entities_sparql(candidate_classes):\n",
    "    sparql = SPARQLWrapper('https://dbpedia.org/sparql')\n",
    "    \n",
    "    ent_dict = dict()\n",
    "\n",
    "    dbp_prefix = 'http://dbpedia.org/resource/'\n",
    "    for candidate_class in candidate_classes:\n",
    "        print(f'###################{candidate_class}########################')\n",
    "        sparql.setQuery(f'''\n",
    "        SELECT ?object\n",
    "        WHERE {{ ?object a dbo:{candidate_class}. }}\n",
    "        ORDER BY RAND()\n",
    "        LIMIT 10\n",
    "        OFFSET 10000\n",
    "        # OFFSET \"\"\" + str(i) + \"0000\"\n",
    "        ''')\n",
    "        ent_dict[candidate_class] = list([])\n",
    "        try:\n",
    "            sparql.setReturnFormat(JSON)\n",
    "            qres = sparql.query().convert()\n",
    "#             pprint(qres)\n",
    "            for entity in qres['results']['bindings']:\n",
    "#                 print(entity['object']['value'].split(dbp_prefix)[1])\n",
    "                ent_dict[candidate_class].append(entity['object']['value'].split(dbp_prefix)[1])\n",
    "#                 if dbo_prefix in entity_class['class']['value']:\n",
    "#                     candicate_class = entity_class['class']['value'].split(dbo_prefix)[1]\n",
    "#                     classes.append(candicate_class)\n",
    "#                     print(candicate_class)\n",
    "        except:\n",
    "            pass\n",
    "        \n",
    "    return ent_dict\n",
    "\n",
    "general_entities = get_dbo_class_entities_sparql(['GovernmentAgency', 'Eukaryote', 'PeriodicalLiterature'])"
   ]
  },
  {
   "cell_type": "code",
   "execution_count": 21,
   "metadata": {},
   "outputs": [],
   "source": [
    "# general_entities"
   ]
  },
  {
   "cell_type": "code",
   "execution_count": 3,
   "metadata": {},
   "outputs": [
    {
     "data": {
      "text/plain": [
       "{'GovernmentAgency': ['Ministry_of_Armed_Forces_(France)',\n",
       "  'Independent_Communications_Authority_of_South_Africa',\n",
       "  'Tourism_Ireland',\n",
       "  'Department_of_Energy_and_Resource_Development_(New_Brunswick)',\n",
       "  'Rock_the_World_Youth_Mission_Alliance',\n",
       "  'Department_of_Environment,_Forestry_and_Fisheries',\n",
       "  'Ministry_of_Agriculture_and_Forestry_(Finland)',\n",
       "  'National_Library_Service_of_Malawi',\n",
       "  'Ministry_of_National_Competitiveness_and_the_fight_against_the_High_Cost_of_Life_(Niger)',\n",
       "  'Regional_Transport_Office'],\n",
       " 'Eukaryote': ['Cereza',\n",
       "  'Tarzino',\n",
       "  'Hamaxia_mutatum',\n",
       "  'Phylloxiphia_oweni',\n",
       "  'Charltona_kala',\n",
       "  'Platamonina',\n",
       "  'Tonna_deshayesii',\n",
       "  'Aeolostoma',\n",
       "  'Bradburia_pilosa',\n",
       "  'Striped_treeshrew'],\n",
       " 'PeriodicalLiterature': ['Numerical_Methods_for_Partial_Differential_Equations',\n",
       "  'Meggendorfer-Blätter',\n",
       "  'King_County_Journal',\n",
       "  'American_Sociological_Review',\n",
       "  'Khurzarin',\n",
       "  'La_Discusión',\n",
       "  'Rambam_Maimonides_Medical_Journal',\n",
       "  'Standpoint_(magazine)',\n",
       "  'La_Humanidad',\n",
       "  'The_Record-Courier_(Baker_City)']}"
      ]
     },
     "execution_count": 3,
     "metadata": {},
     "output_type": "execute_result"
    }
   ],
   "source": [
    "general_entities"
   ]
  },
  {
   "cell_type": "code",
   "execution_count": 6,
   "metadata": {},
   "outputs": [
    {
     "ename": "NameError",
     "evalue": "name 'sparql' is not defined",
     "output_type": "error",
     "traceback": [
      "\u001b[1;31m---------------------------------------------------------------------------\u001b[0m",
      "\u001b[1;31mNameError\u001b[0m                                 Traceback (most recent call last)",
      "\u001b[1;32m<ipython-input-6-1e244b4a732e>\u001b[0m in \u001b[0;36m<module>\u001b[1;34m\u001b[0m\n\u001b[0;32m     17\u001b[0m     \u001b[1;32mreturn\u001b[0m \u001b[0mclasses\u001b[0m\u001b[1;33m\u001b[0m\u001b[1;33m\u001b[0m\u001b[0m\n\u001b[0;32m     18\u001b[0m \u001b[1;33m\u001b[0m\u001b[0m\n\u001b[1;32m---> 19\u001b[1;33m \u001b[0mtemp\u001b[0m \u001b[1;33m=\u001b[0m \u001b[0mquery_complete_classes_of_entity\u001b[0m\u001b[1;33m(\u001b[0m\u001b[1;34m'Athens'\u001b[0m\u001b[1;33m)\u001b[0m\u001b[1;33m\u001b[0m\u001b[1;33m\u001b[0m\u001b[0m\n\u001b[0m",
      "\u001b[1;32m<ipython-input-6-1e244b4a732e>\u001b[0m in \u001b[0;36mquery_complete_classes_of_entity\u001b[1;34m(ent)\u001b[0m\n\u001b[0;32m      3\u001b[0m     \u001b[0mclasses\u001b[0m \u001b[1;33m=\u001b[0m \u001b[0mset\u001b[0m\u001b[1;33m(\u001b[0m\u001b[1;33m)\u001b[0m\u001b[1;33m\u001b[0m\u001b[1;33m\u001b[0m\u001b[0m\n\u001b[0;32m      4\u001b[0m     \u001b[1;32mtry\u001b[0m\u001b[1;33m:\u001b[0m\u001b[1;33m\u001b[0m\u001b[1;33m\u001b[0m\u001b[0m\n\u001b[1;32m----> 5\u001b[1;33m         \u001b[0ms\u001b[0m \u001b[1;33m=\u001b[0m \u001b[0msparql\u001b[0m\u001b[1;33m.\u001b[0m\u001b[0mService\u001b[0m\u001b[1;33m(\u001b[0m\u001b[1;34m'http://dbpedia.org/sparql'\u001b[0m\u001b[1;33m,\u001b[0m \u001b[1;34m\"utf-8\"\u001b[0m\u001b[1;33m,\u001b[0m \u001b[1;34m\"GET\"\u001b[0m\u001b[1;33m)\u001b[0m\u001b[1;33m\u001b[0m\u001b[1;33m\u001b[0m\u001b[0m\n\u001b[0m\u001b[0;32m      6\u001b[0m         \u001b[0mstatement\u001b[0m \u001b[1;33m=\u001b[0m \u001b[1;34m'select distinct ?superclass where { <%s%s> rdf:type ?e. '\u001b[0m\u001b[0;31m \u001b[0m\u001b[0;31m\\\u001b[0m\u001b[1;33m\u001b[0m\u001b[1;33m\u001b[0m\u001b[0m\n\u001b[0;32m      7\u001b[0m             \u001b[1;34m'?e rdfs:subClassOf* ?superclass. FILTER(strstarts(str(?superclass), \"%s\"))}'\u001b[0m\u001b[0;31m \u001b[0m\u001b[0;31m\\\u001b[0m\u001b[1;33m\u001b[0m\u001b[1;33m\u001b[0m\u001b[0m\n",
      "\u001b[1;31mNameError\u001b[0m: name 'sparql' is not defined"
     ]
    }
   ],
   "source": [
    "# Query DBPedia for an entity's complete classes\n",
    "def query_complete_classes_of_entity(ent):\n",
    "    classes = set()\n",
    "    try:\n",
    "        s = sparql.Service('http://dbpedia.org/sparql', \"utf-8\", \"GET\")\n",
    "        statement = 'select distinct ?superclass where { <%s%s> rdf:type ?e. ' \\\n",
    "            '?e rdfs:subClassOf* ?superclass. FILTER(strstarts(str(?superclass), \"%s\"))}' \\\n",
    "            % (dbp_prefix, ent, dbo_prefix)\n",
    "        result = s.query(statement)\n",
    "        for row in result.fetchone():\n",
    "            cls_uri = str(row[0])\n",
    "            cls = cls_uri.split(dbo_prefix)[1]\n",
    "            classes.add(cls)\n",
    "    except UnicodeDecodeError:\n",
    "        print('     %s: UnicodeDecodeError' % ent)\n",
    "        pass\n",
    "    return classes\n",
    "\n",
    "temp = query_complete_classes_of_entity('Athens')"
   ]
  },
  {
   "cell_type": "code",
   "execution_count": null,
   "metadata": {},
   "outputs": [],
   "source": [
    "# TO REWRITE\n",
    "\n",
    "def super_classes(col_classes):\n",
    "    dbo_prefix = 'http://dbpedia.org/ontology/'\n",
    "    for i, col in enumerate(col_classes.keys()):\n",
    "        ori_cls = col_classes[col][0]\n",
    "        statement = 'SELECT distinct ?superclass WHERE { dbo:%s rdfs:subClassOf* ?superclass. ' \\\n",
    "                    'FILTER ( strstarts(str(?superclass), \"%s\"))}' % (ori_cls, dbo_prefix)\n",
    "        result = dbo_sparql_results(statement)\n",
    "        for row in result:\n",
    "            super_cls = str(row[0])\n",
    "            super_cls_name = super_cls.split(dbo_prefix)[1]\n",
    "            if super_cls_name not in col_classes[col]:\n",
    "                col_classes[col].append(super_cls_name)\n",
    "        if i % 10 == 0:\n",
    "            print('%d columns done' % (i + 1))\n",
    "    return col_classes"
   ]
  },
  {
   "cell_type": "code",
   "execution_count": null,
   "metadata": {},
   "outputs": [],
   "source": []
  },
  {
   "cell_type": "code",
   "execution_count": null,
   "metadata": {},
   "outputs": [],
   "source": []
  },
  {
   "cell_type": "code",
   "execution_count": null,
   "metadata": {},
   "outputs": [],
   "source": []
  },
  {
   "cell_type": "code",
   "execution_count": null,
   "metadata": {},
   "outputs": [],
   "source": []
  },
  {
   "cell_type": "code",
   "execution_count": null,
   "metadata": {},
   "outputs": [],
   "source": []
  },
  {
   "cell_type": "code",
   "execution_count": null,
   "metadata": {},
   "outputs": [],
   "source": []
  },
  {
   "cell_type": "code",
   "execution_count": null,
   "metadata": {},
   "outputs": [],
   "source": []
  }
 ],
 "metadata": {
  "kernelspec": {
   "display_name": "Python 3",
   "language": "python",
   "name": "python3"
  },
  "language_info": {
   "codemirror_mode": {
    "name": "ipython",
    "version": 3
   },
   "file_extension": ".py",
   "mimetype": "text/x-python",
   "name": "python",
   "nbconvert_exporter": "python",
   "pygments_lexer": "ipython3",
   "version": "3.7.3"
  }
 },
 "nbformat": 4,
 "nbformat_minor": 2
}
