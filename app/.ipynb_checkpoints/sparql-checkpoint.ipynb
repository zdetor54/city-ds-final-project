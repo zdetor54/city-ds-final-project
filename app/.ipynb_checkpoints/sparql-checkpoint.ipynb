{
 "cells": [
  {
   "cell_type": "code",
   "execution_count": 1,
   "metadata": {},
   "outputs": [],
   "source": [
    "from rdflib import Graph\n",
    "from SPARQLWrapper import SPARQLWrapper, JSON, N3\n",
    "from pprint import pprint\n",
    "import requests"
   ]
  },
  {
   "cell_type": "code",
   "execution_count": null,
   "metadata": {},
   "outputs": [
    {
     "name": "stdout",
     "output_type": "stream",
     "text": [
      "###################Wien########################\n",
      "###################Thessaloniki########################\n",
      "Place\n",
      "Location\n",
      "City\n",
      "Settlement\n",
      "PopulatedPlace\n",
      "###################Batumi########################\n",
      "Place\n",
      "Location\n",
      "City\n",
      "Settlement\n",
      "PopulatedPlace\n",
      "###################Limassol########################\n",
      "Place\n",
      "Location\n",
      "City\n",
      "Settlement\n",
      "PopulatedPlace\n",
      "###################Ganja########################\n",
      "###################Capital City of Budapest########################\n",
      "###################Kharkiv (Харків)########################\n",
      "###################Luzern########################\n",
      "Settlement\n",
      "###################Korzeniew########################\n",
      "Place\n",
      "Location\n",
      "Settlement\n",
      "Village\n",
      "PopulatedPlace\n",
      "###################Almaty########################\n",
      "Place\n",
      "Location\n",
      "City\n",
      "Settlement\n",
      "PopulatedPlace\n",
      "###################Kaunas########################\n",
      "Place\n",
      "Location\n",
      "City\n",
      "Settlement\n",
      "PopulatedPlace\n",
      "###################Haraçinë########################\n",
      "###################Poitiers########################\n",
      "Place\n",
      "Location\n",
      "City\n",
      "Settlement\n",
      "PopulatedPlace\n",
      "###################Tallinn########################\n",
      "Place\n",
      "Location\n",
      "City\n",
      "Settlement\n",
      "PopulatedPlace\n",
      "###################Ljubljana########################\n",
      "Place\n",
      "Location\n",
      "City\n",
      "Settlement\n",
      "PopulatedPlace\n",
      "###################Երևան########################\n",
      "###################Pristina########################\n",
      "Place\n",
      "Location\n",
      "Settlement\n",
      "Town\n",
      "PopulatedPlace\n",
      "###################Tuzla########################\n",
      "Place\n",
      "Location\n",
      "City\n",
      "Settlement\n",
      "PopulatedPlace\n",
      "###################Bergen########################\n"
     ]
    }
   ],
   "source": [
    "\n",
    "candidate_cells = ['Wien', 'Thessaloniki', 'Batumi', 'Limassol', 'Ganja'\n",
    ", 'Capital City of Budapest', 'Kharkiv (Харків)', 'Luzern', 'Korzeniew', 'Almaty', 'Kaunas', 'Haraçinë', 'Poitiers', 'Tallinn',\n",
    " 'Ljubljana', 'Երևան', 'Pristina', 'Tuzla', 'Bergen', 'Budapest főváros', 'Istanbul', 'Cwmffrwd', 'Yerevan']\n",
    "\n",
    "def get_classes_sparql(candidate_cells):\n",
    "    \n",
    "    classes = list([])\n",
    "    sparql = SPARQLWrapper('https://dbpedia.org/sparql')\n",
    "\n",
    "    dbo_prefix = 'http://dbpedia.org/ontology/'\n",
    "    for cell in candidate_cells:\n",
    "#         print(f'###################{cell}########################')\n",
    "        sparql.setQuery(f'''\n",
    "        SELECT ?class\n",
    "        WHERE {{ dbr:{cell} a ?class.\n",
    "        }}''')\n",
    "\n",
    "        try:\n",
    "            sparql.setReturnFormat(JSON)\n",
    "            qres = sparql.query().convert()\n",
    "        #     pprint(qres)\n",
    "            for entity_class in qres['results']['bindings']:\n",
    "                if dbo_prefix in entity_class['class']['value']:\n",
    "                    candicate_class = entity_class['class']['value'].split(dbo_prefix)[1]\n",
    "                    classes.append(candicate_class)\n",
    "#                     print(candicate_class)\n",
    "        except:\n",
    "            pass\n",
    "    return set(classes)\n",
    "\n",
    "classes = get_classes_sparql(candidate_cells)\n",
    "classes"
   ]
  },
  {
   "cell_type": "code",
   "execution_count": 28,
   "metadata": {},
   "outputs": [
    {
     "data": {
      "text/plain": [
       "35"
      ]
     },
     "execution_count": 28,
     "metadata": {},
     "output_type": "execute_result"
    }
   ],
   "source": [
    "len(qres['results']['bindings'])"
   ]
  },
  {
   "cell_type": "code",
   "execution_count": 33,
   "metadata": {},
   "outputs": [
    {
     "name": "stdout",
     "output_type": "stream",
     "text": [
      "Place\n",
      "Location\n",
      "City\n",
      "Settlement\n",
      "PopulatedPlace\n"
     ]
    }
   ],
   "source": [
    "dbo_prefix = 'http://dbpedia.org/ontology/'\n",
    "for entity_class in qres['results']['bindings']:\n",
    "    if dbo_prefix in entity_class['class']['value']:\n",
    "        print(entity_class['class']['value'].split(dbo_prefix)[1])"
   ]
  },
  {
   "cell_type": "code",
   "execution_count": null,
   "metadata": {},
   "outputs": [],
   "source": []
  }
 ],
 "metadata": {
  "kernelspec": {
   "display_name": "Python 3",
   "language": "python",
   "name": "python3"
  },
  "language_info": {
   "codemirror_mode": {
    "name": "ipython",
    "version": 3
   },
   "file_extension": ".py",
   "mimetype": "text/x-python",
   "name": "python",
   "nbconvert_exporter": "python",
   "pygments_lexer": "ipython3",
   "version": "3.7.3"
  }
 },
 "nbformat": 4,
 "nbformat_minor": 2
}
