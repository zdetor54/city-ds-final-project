{
 "cells": [
  {
   "cell_type": "code",
   "execution_count": 2,
   "metadata": {},
   "outputs": [],
   "source": [
    "import requests\n",
    "import re\n",
    "# import sparql\n",
    "import xml.etree.ElementTree as ET\n"
   ]
  },
  {
   "cell_type": "code",
   "execution_count": 37,
   "metadata": {},
   "outputs": [
    {
     "name": "stdout",
     "output_type": "stream",
     "text": [
      "Metropolitan City of Rome Capital\n",
      "\n",
      "\n",
      "\n",
      "\n",
      "http://dbpedia.org/resource/Metropolitan_City_of_Rome_Capital\n",
      "Metropolitan_City_of_Rome_Capital\n",
      "http://dbpedia.org/ontology/Settlement\n",
      "http://dbpedia.org/ontology/City\n",
      "http://dbpedia.org/ontology/Place\n",
      "http://dbpedia.org/ontology/PopulatedPlace\n",
      "http://dbpedia.org/ontology/Location\n",
      "\n",
      "\n",
      "\n",
      "\n",
      "http://dbpedia.org/resource/List_of_communes_of_the_Metropolitan_City_of_Capital_Rome\n",
      "List_of_communes_of_the_Metropolitan_City_of_Capital_Rome\n",
      "\n",
      "\n",
      "\n",
      "\n",
      "http://dbpedia.org/resource/Rome\n",
      "Rome\n",
      "http://dbpedia.org/ontology/Settlement\n",
      "http://dbpedia.org/ontology/City\n",
      "http://dbpedia.org/ontology/Place\n",
      "http://dbpedia.org/ontology/PopulatedPlace\n",
      "http://dbpedia.org/ontology/Location\n",
      "\n",
      "\n",
      "\n",
      "\n",
      "http://dbpedia.org/resource/Milan\n",
      "Milan\n",
      "http://dbpedia.org/ontology/Settlement\n",
      "http://dbpedia.org/ontology/Place\n",
      "http://dbpedia.org/ontology/PopulatedPlace\n",
      "http://dbpedia.org/ontology/Location\n",
      "\n",
      "\n",
      "\n",
      "\n",
      "http://dbpedia.org/resource/Naples\n",
      "Naples\n",
      "http://dbpedia.org/ontology/Settlement\n",
      "http://dbpedia.org/ontology/Place\n",
      "http://dbpedia.org/ontology/PopulatedPlace\n",
      "http://dbpedia.org/ontology/Location\n"
     ]
    },
    {
     "data": {
      "text/plain": [
       "{'Metropolitan_City_of_Rome_Capital': ['Settlement',\n",
       "  'City',\n",
       "  'Place',\n",
       "  'PopulatedPlace',\n",
       "  'Location'],\n",
       " 'List_of_communes_of_the_Metropolitan_City_of_Capital_Rome': [],\n",
       " 'Rome': ['Settlement', 'City', 'Place', 'PopulatedPlace', 'Location'],\n",
       " 'Milan': ['Settlement', 'Place', 'PopulatedPlace', 'Location'],\n",
       " 'Naples': ['Settlement', 'Place', 'PopulatedPlace', 'Location']}"
      ]
     },
     "execution_count": 37,
     "metadata": {},
     "output_type": "execute_result"
    }
   ],
   "source": [
    "cell_text = 'Metropolitan City of Rome Capital'\n",
    "# cell_text = 'Limasol'\n",
    "\n",
    "dbo_prefix = 'http://dbpedia.org/ontology/'\n",
    "dbp_prefix = 'http://dbpedia.org/resource/'\n",
    "entity_classes = dict()\n",
    "cell_items = list()\n",
    "cell_brackets = re.findall('\\((.*?)\\)', cell_text)\n",
    "for cell_bracket in cell_brackets:\n",
    "    cell_text = cell_text.replace('(%s)' % cell_bracket, '')\n",
    "cell_text = cell_text.strip()\n",
    "if len(cell_text) > 2:\n",
    "    cell_items.append(cell_text)\n",
    "for cell_bracket in cell_brackets:\n",
    "    if len(cell_bracket) > 2:\n",
    "        cell_items.append(cell_bracket.strip())\n",
    "for cell_item in cell_items:\n",
    "    print(cell_item)\n",
    "    try:\n",
    "        lookup_url = 'http://lookup.dbpedia.org/api/search/KeywordSearch?MaxHits=5&QueryString=%s' % cell_item\n",
    "        lookup_res = requests.get(lookup_url)\n",
    "        root = ET.fromstring(lookup_res.content)\n",
    "        for child in root:\n",
    "            print(\"\\n\\n\\n\")\n",
    "            print(child[1].text)\n",
    "            entity = child[1].text.split(dbp_prefix)[1]\n",
    "            print(entity)\n",
    "            classes = list()\n",
    "            for cc in child[3]:\n",
    "                cls_URI = cc[1].text\n",
    "                print(cls_URI)\n",
    "                if dbo_prefix in cls_URI:\n",
    "                    classes.append(cls_URI.split(dbo_prefix)[1])\n",
    "            entity_classes[entity] = classes\n",
    "    except UnicodeDecodeError:\n",
    "        pass\n",
    "entity_classes"
   ]
  },
  {
   "cell_type": "code",
   "execution_count": 35,
   "metadata": {},
   "outputs": [
    {
     "data": {
      "text/plain": [
       "'Metropolitan City? of Rome Capital'"
      ]
     },
     "execution_count": 35,
     "metadata": {},
     "output_type": "execute_result"
    }
   ],
   "source": [
    "cell_text"
   ]
  },
  {
   "cell_type": "code",
   "execution_count": 39,
   "metadata": {},
   "outputs": [
    {
     "name": "stdout",
     "output_type": "stream",
     "text": [
      "Metropolitan City of Rome Capital\n",
      "http://lookup.dbpedia.org/api/search/KeywordSearch?MaxHits=5&QueryString=Metropolitan City of Rome Capital\n",
      "\n",
      "\n",
      "\n",
      "\n",
      "http://dbpedia.org/resource/Metropolitan_City_of_Rome_Capital\n",
      "Metropolitan_City_of_Rome_Capital\n",
      "http://dbpedia.org/ontology/Settlement\n",
      "http://dbpedia.org/ontology/City\n",
      "http://dbpedia.org/ontology/Place\n",
      "http://dbpedia.org/ontology/PopulatedPlace\n",
      "http://dbpedia.org/ontology/Location\n",
      "\n",
      "\n",
      "\n",
      "\n",
      "http://dbpedia.org/resource/List_of_communes_of_the_Metropolitan_City_of_Capital_Rome\n",
      "List_of_communes_of_the_Metropolitan_City_of_Capital_Rome\n",
      "\n",
      "\n",
      "\n",
      "\n",
      "http://dbpedia.org/resource/Rome\n",
      "Rome\n",
      "http://dbpedia.org/ontology/Settlement\n",
      "http://dbpedia.org/ontology/City\n",
      "http://dbpedia.org/ontology/Place\n",
      "http://dbpedia.org/ontology/PopulatedPlace\n",
      "http://dbpedia.org/ontology/Location\n",
      "\n",
      "\n",
      "\n",
      "\n",
      "http://dbpedia.org/resource/Milan\n",
      "Milan\n",
      "http://dbpedia.org/ontology/Settlement\n",
      "http://dbpedia.org/ontology/Place\n",
      "http://dbpedia.org/ontology/PopulatedPlace\n",
      "http://dbpedia.org/ontology/Location\n",
      "\n",
      "\n",
      "\n",
      "\n",
      "http://dbpedia.org/resource/Naples\n",
      "Naples\n",
      "http://dbpedia.org/ontology/Settlement\n",
      "http://dbpedia.org/ontology/Place\n",
      "http://dbpedia.org/ontology/PopulatedPlace\n",
      "http://dbpedia.org/ontology/Location\n"
     ]
    },
    {
     "data": {
      "text/plain": [
       "{'Metropolitan_City_of_Rome_Capital': ['Settlement',\n",
       "  'City',\n",
       "  'Place',\n",
       "  'PopulatedPlace',\n",
       "  'Location'],\n",
       " 'List_of_communes_of_the_Metropolitan_City_of_Capital_Rome': [],\n",
       " 'Rome': ['Settlement', 'City', 'Place', 'PopulatedPlace', 'Location'],\n",
       " 'Milan': ['Settlement', 'Place', 'PopulatedPlace', 'Location'],\n",
       " 'Naples': ['Settlement', 'Place', 'PopulatedPlace', 'Location']}"
      ]
     },
     "execution_count": 39,
     "metadata": {},
     "output_type": "execute_result"
    }
   ],
   "source": [
    "cell_text = 'Metropolitan City of Rome Capital'\n",
    "# cell_text = 'Limasol'\n",
    "\n",
    "dbo_prefix = 'http://dbpedia.org/ontology/'\n",
    "dbp_prefix = 'http://dbpedia.org/resource/'\n",
    "entity_classes = dict()\n",
    "cell_items = list()\n",
    "# cell_brackets = re.findall('\\((.*?)\\)', cell_text)\n",
    "# for cell_bracket in cell_brackets:\n",
    "#     cell_text = cell_text.replace('(%s)' % cell_bracket, '')\n",
    "# cell_text = cell_text.strip()\n",
    "# if len(cell_text) > 2:\n",
    "#     cell_items.append(cell_text)\n",
    "# for cell_bracket in cell_brackets:\n",
    "#     if len(cell_bracket) > 2:\n",
    "#         cell_items.append(cell_bracket.strip())\n",
    "        \n",
    "cell_items.append(cell_text)\n",
    "for cell_item in cell_items:\n",
    "    print(cell_item)\n",
    "    try:\n",
    "        lookup_url = 'http://lookup.dbpedia.org/api/search/KeywordSearch?MaxHits=5&QueryString=%s' % cell_item\n",
    "        print(lookup_url)\n",
    "        lookup_res = requests.get(lookup_url)\n",
    "        root = ET.fromstring(lookup_res.content)\n",
    "        for child in root:\n",
    "            print(\"\\n\\n\\n\")\n",
    "            print(child[1].text)\n",
    "            entity = child[1].text.split(dbp_prefix)[1]\n",
    "            print(entity)\n",
    "            classes = list()\n",
    "            for cc in child[3]:\n",
    "                cls_URI = cc[1].text\n",
    "                print(cls_URI)\n",
    "                if dbo_prefix in cls_URI:\n",
    "                    classes.append(cls_URI.split(dbo_prefix)[1])\n",
    "            entity_classes[entity] = classes\n",
    "    except UnicodeDecodeError:\n",
    "        pass\n",
    "entity_classes"
   ]
  },
  {
   "cell_type": "code",
   "execution_count": null,
   "metadata": {},
   "outputs": [],
   "source": []
  }
 ],
 "metadata": {
  "kernelspec": {
   "display_name": "Python 3",
   "language": "python",
   "name": "python3"
  },
  "language_info": {
   "codemirror_mode": {
    "name": "ipython",
    "version": 3
   },
   "file_extension": ".py",
   "mimetype": "text/x-python",
   "name": "python",
   "nbconvert_exporter": "python",
   "pygments_lexer": "ipython3",
   "version": "3.7.3"
  }
 },
 "nbformat": 4,
 "nbformat_minor": 2
}
