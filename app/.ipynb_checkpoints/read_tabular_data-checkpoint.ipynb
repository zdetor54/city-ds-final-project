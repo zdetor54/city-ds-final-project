{
 "cells": [
  {
   "cell_type": "code",
   "execution_count": 1,
   "metadata": {},
   "outputs": [],
   "source": [
    "\"\"\"\n",
    "lookup candidate entities and classes\n",
    "\"\"\"\n",
    "import os\n",
    "import pandas as pd\n",
    "import sys\n",
    "import argparse\n",
    "\n",
    "current_path = os.getcwd()\n",
    "parser = argparse.ArgumentParser()\n",
    "parser.add_argument(\n",
    "    '--input_dir',\n",
    "    type=str,\n",
    "    default=os.path.join(current_path, 'data'),\n",
    "    help='Directory of input/output')\n",
    "parser.add_argument(\n",
    "    '--file_type',\n",
    "    type=str,\n",
    "    default='csv',\n",
    "    help='File type')\n",
    "\n",
    "FLAGS, unparsed = parser.parse_known_args()\n",
    "# if not os.path.exists(FLAGS.input_dir):\n",
    "#     os.mkdir(FLAGS.input_dir)"
   ]
  },
  {
   "cell_type": "code",
   "execution_count": 2,
   "metadata": {},
   "outputs": [],
   "source": [
    "# Get all the csv files from the input directory\n",
    "def get_data_files(data_folder):\n",
    "    \"\"\"\n",
    "    A function used to get all the csv files from the input directory\n",
    "    ...\n",
    "\n",
    "    Attributes\n",
    "    ----------\n",
    "    data_folder : str\n",
    "        the folder within  the working directory where the data is located\n",
    "    \"\"\"\n",
    "\n",
    "    files = [] # a list of all filenames, including file extensions, that contain data\n",
    "    csv_files = [] # same list as above but without the file extension\n",
    "\n",
    "    # Get the list of files\n",
    "    files = [f for f in os.listdir(FLAGS.input_dir+data_folder) if os.path.isfile(os.path.join(FLAGS.input_dir+data_folder, f))]\n",
    "    csv_files = [f.replace(\".csv\",\"\") for f in os.listdir(FLAGS.input_dir+data_folder) if os.path.isfile(os.path.join(FLAGS.input_dir+data_folder, f))]\n",
    "    \n",
    "    return csv_files\n",
    "\n",
    "def get_target_cta_columns(target_config_file, csv_files, filter_col = True):\n",
    "    \"\"\"\n",
    "    A function used to get which columns from the csv files need to be considered for the CTA. This is a subset of the file columns ignoring anything that is not an entity\n",
    "    ...\n",
    "\n",
    "    Attributes\n",
    "    ----------\n",
    "    target_config_file : str\n",
    "        the file that contains the target column indices for each file\n",
    "    csv_files : list\n",
    "        the list of csv files that have the tabular data\n",
    "    filter_col : boolean\n",
    "        a flag to indicate whether we should narrow down the reading of the columns to only those targeted for the CTA task\n",
    "    \"\"\"\n",
    "   \n",
    "    target_col_file = os.path.join(FLAGS.input_dir, target_config_file)\n",
    "    df_target_col = pd.read_csv(target_col_file,header=None, names=['filename','column_index'])\n",
    "    \n",
    "    # filter to only those files that are included in the csv_files\n",
    "    df_target_col = df_target_col.loc[df_target_col['filename'].isin(csv_files)]\n",
    "    \n",
    "    # collapse all rows pertaining to the same file into one key value pair. The key is the filename and the value is the list with the column indices that should be considered\n",
    "    # dict_target = {'CTRL_DBP_GEO_european_countries_capital_populated_cities': [0, 1, 2]}\n",
    "    dict_target = dict()\n",
    "    \n",
    "    for index,row in df_target_col.iterrows():\n",
    "        \n",
    "        # is this is the first row with this file create the key\n",
    "        if row['filename'] not in dict_target:\n",
    "            dict_target[row['filename']]= []\n",
    "            \n",
    "        # append the new target column to the target column list for that file\n",
    "        if filter_col:\n",
    "            dict_target[row['filename']].append(row['column_index'])\n",
    "    \n",
    "    return dict_target\n",
    "\n",
    "# Get the list of csv files with tabular data\n",
    "csv_files = get_data_files('\\lite')\n",
    "# csv_files = get_data_files('\\\\tables_full')\n",
    "\n",
    "# Get the columns we need to consider for the CTA task\n",
    "dict_target_col = get_target_cta_columns('CTA_DBP_Round1_Targets.csv', csv_files,True)\n",
    "\n",
    "    "
   ]
  },
  {
   "cell_type": "code",
   "execution_count": 7,
   "metadata": {},
   "outputs": [],
   "source": [
    "data = list()\n",
    "data_folder = '\\lite'\n",
    "has_header_row = True\n",
    "\n",
    "for file in dict_target_col:\n",
    "    element = dict()\n",
    "    element['filename'] = file\n",
    "    df_data = pd.DataFrame()\n",
    "    df_title = pd.DataFrame()\n",
    "    \n",
    "    \n",
    "    \n",
    "    filename = file + '.' + FLAGS.file_type\n",
    "    tab_data_file = os.path.join(FLAGS.input_dir + data_folder, filename)\n",
    "      \n",
    "    # read the file data in a dataframe. Also read the column titles if we need to use them\n",
    "    if len(dict_target_col[file])>0:\n",
    "        if has_header_row:\n",
    "            df_data = pd.read_csv(tab_data_file,header=None, skiprows=[0], usecols=dict_target_col[file])\n",
    "            df_title = pd.read_csv(tab_data_file,header=None, usecols=dict_target_col[file], nrows = 1)\n",
    "        else:\n",
    "            df_data = pd.read_csv(tab_data_file,header=None, usecols=dict_target_col[file])\n",
    "    else:\n",
    "        if has_header_row:\n",
    "            df_data = pd.read_csv(tab_data_file,header=None, skiprows=[0])\n",
    "            df_title = pd.read_csv(tab_data_file,header=None, nrows = 1)\n",
    "        else:\n",
    "            df_data = pd.read_csv(tab_data_file,header=None)\n",
    "\n",
    "    # add the column headers to the data dictionary\n",
    "    try:\n",
    "        element['column_titles'] = list(df_title.iloc[0,:])\n",
    "    except:\n",
    "        pass\n",
    "    \n",
    "    file_element = dict()\n",
    "    for column in df_data.columns:\n",
    "        file_element[column] = list(set(df_data[column]))\n",
    "    element['data'] = file_element\n",
    "    \n",
    "#     element['dataframe'] = df_data    \n",
    "    data.append(element)"
   ]
  },
  {
   "cell_type": "code",
   "execution_count": 8,
   "metadata": {},
   "outputs": [
    {
     "data": {
      "text/plain": [
       "'most_populated_city'"
      ]
     },
     "execution_count": 8,
     "metadata": {},
     "output_type": "execute_result"
    }
   ],
   "source": [
    "data[0]['data'][2]\n",
    "data[0]['column_titles'][2]"
   ]
  },
  {
   "cell_type": "code",
   "execution_count": 9,
   "metadata": {},
   "outputs": [
    {
     "data": {
      "text/plain": [
       "{'filename': 'CTRL_DBP_GEO_us_lakes',\n",
       " 'column_titles': ['lake', 'location', 'state'],\n",
       " 'data': {0: ['Aaron River Reservoir', 'Abner Pond', 'Accord Pond'],\n",
       "  2: ['Plymouth, Massachusetts',\n",
       "   'Cohasset, Massachusetts',\n",
       "   'Hingham, Massachusetts',\n",
       "   'Norwell, Massachusetts',\n",
       "   'Rockland, Massachusetts'],\n",
       "  3: ['Plymouth County, Massachusetts', 'Massachusetts']}}"
      ]
     },
     "execution_count": 9,
     "metadata": {},
     "output_type": "execute_result"
    }
   ],
   "source": [
    "data[4]"
   ]
  },
  {
   "cell_type": "code",
   "execution_count": 3,
   "metadata": {},
   "outputs": [
    {
     "data": {
      "text/plain": [
       "['CTRL_DBP_GEO_european_countries_capital_populated_cities',\n",
       " 'CTRL_DBP_GEO_european_countries_capital_populated_cities_NOISE2',\n",
       " 'CTRL_DBP_GEO_protected_areas',\n",
       " 'CTRL_DBP_GEO_protected_areas_NOISE2',\n",
       " 'CTRL_DBP_GEO_us_lakes - Copy',\n",
       " 'CTRL_DBP_GEO_us_lakes',\n",
       " 'CTRL_DBP_GEO_us_lakes_NOISE2']"
      ]
     },
     "execution_count": 3,
     "metadata": {},
     "output_type": "execute_result"
    }
   ],
   "source": [
    "csv_files"
   ]
  },
  {
   "cell_type": "code",
   "execution_count": null,
   "metadata": {},
   "outputs": [],
   "source": []
  }
 ],
 "metadata": {
  "kernelspec": {
   "display_name": "Python 3",
   "language": "python",
   "name": "python3"
  },
  "language_info": {
   "codemirror_mode": {
    "name": "ipython",
    "version": 3
   },
   "file_extension": ".py",
   "mimetype": "text/x-python",
   "name": "python",
   "nbconvert_exporter": "python",
   "pygments_lexer": "ipython3",
   "version": "3.7.3"
  }
 },
 "nbformat": 4,
 "nbformat_minor": 2
}
