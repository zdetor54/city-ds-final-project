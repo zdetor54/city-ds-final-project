{
 "cells": [
  {
   "cell_type": "code",
   "execution_count": 1,
   "metadata": {},
   "outputs": [],
   "source": [
    "import requests\n",
    "\n",
    "headers = {\n",
    "    'Authorization': '8cac7813-d42e-4372-8a7e-4d1b3d4b9a78'\n",
    "}\n",
    "\n",
    "response = requests.get('https://api.vesseltracker.com/api/v1/vessels/userpolygon?timeUpdated=2021-08-05T12%3a55%3a35%2b0000', headers=headers)"
   ]
  },
  {
   "cell_type": "code",
   "execution_count": 2,
   "metadata": {},
   "outputs": [
    {
     "data": {
      "text/plain": [
       "requests.models.Response"
      ]
     },
     "execution_count": 2,
     "metadata": {},
     "output_type": "execute_result"
    }
   ],
   "source": [
    "type(response)"
   ]
  },
  {
   "cell_type": "code",
   "execution_count": 3,
   "metadata": {},
   "outputs": [],
   "source": [
    "import json\n",
    "\n",
    "json_data = json.loads(response.text)"
   ]
  },
  {
   "cell_type": "code",
   "execution_count": 5,
   "metadata": {},
   "outputs": [
    {
     "data": {
      "text/plain": [
       "<bound method Response.json of <Response [200]>>"
      ]
     },
     "execution_count": 5,
     "metadata": {},
     "output_type": "execute_result"
    }
   ],
   "source": [
    "response.json"
   ]
  },
  {
   "cell_type": "code",
   "execution_count": 8,
   "metadata": {},
   "outputs": [],
   "source": [
    "data_list = json_data['vessels']"
   ]
  },
  {
   "cell_type": "code",
   "execution_count": 28,
   "metadata": {},
   "outputs": [
    {
     "name": "stdout",
     "output_type": "stream",
     "text": [
      "0\n"
     ]
    }
   ],
   "source": [
    "count = 0\n",
    "for item in data_list:\n",
    "    try:\n",
    "        item['vesselDetails']\n",
    "#         print(item['msg27'])\n",
    "        count += 1\n",
    "    except:\n",
    "        pass\n",
    "        \n",
    "print(count)     \n",
    "# aisStatic\n",
    "# aisPosition\n",
    "# aisVoyage\n",
    "# voyageDetails\n",
    "# geoDetails\n",
    "# vesselDetails\n",
    "# msg27"
   ]
  },
  {
   "cell_type": "code",
   "execution_count": null,
   "metadata": {},
   "outputs": [],
   "source": [
    "aisStatic: 7043\n",
    "aisPosition: 7043\n",
    "aisVoyage: 7043\n",
    "voyageDetails: 4380\n",
    "geoDetails: 7043\n",
    "vesselDetails: 0\n",
    "msg27: 0"
   ]
  }
 ],
 "metadata": {
  "kernelspec": {
   "display_name": "Python 3",
   "language": "python",
   "name": "python3"
  },
  "language_info": {
   "codemirror_mode": {
    "name": "ipython",
    "version": 3
   },
   "file_extension": ".py",
   "mimetype": "text/x-python",
   "name": "python",
   "nbconvert_exporter": "python",
   "pygments_lexer": "ipython3",
   "version": "3.7.3"
  }
 },
 "nbformat": 4,
 "nbformat_minor": 2
}
