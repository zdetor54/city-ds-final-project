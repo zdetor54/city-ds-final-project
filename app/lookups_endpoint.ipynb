{
 "cells": [
  {
   "cell_type": "code",
   "execution_count": 1,
   "metadata": {},
   "outputs": [],
   "source": [
    "import requests\n",
    "import xml.etree.ElementTree as ET\n",
    "\n",
    "def retrieve_dbpedia_classes (query_string, entity_classes, max_hits = 5):\n",
    "    web_api = 'http://lookup.dbpedia.org/api/search/KeywordSearch?MaxHits=%s&QueryString=%s'\n",
    "    dbo_prefix = 'http://dbpedia.org/ontology/'\n",
    "    dbp_prefix = 'http://dbpedia.org/resource/'\n",
    "    \n",
    "#     entity_classes = dict()\n",
    "    try:\n",
    "        lookup_url = web_api % (max_hits, query_string)\n",
    "#         print(lookup_url)\n",
    "        lookup_res = requests.get(lookup_url)\n",
    "        root = ET.fromstring(lookup_res.content)\n",
    "        i=0\n",
    "        for child in root:\n",
    "            i+=1\n",
    "#             print(\"\\n\\n\\n\")\n",
    "#             print(child[1].text)\n",
    "            entity = child[1].text.split(dbp_prefix)[1]\n",
    "#             print(entity)\n",
    "            classes = list()\n",
    "            for cc in child[3]:\n",
    "                cls_URI = cc[1].text\n",
    "#                 print(cls_URI)\n",
    "                if dbo_prefix in cls_URI:\n",
    "                    classes.append((cls_URI.split(dbo_prefix)[1],i))\n",
    "            if len(classes)>0:\n",
    "                entity_classes[entity] = classes\n",
    "    except UnicodeDecodeError:\n",
    "        pass\n",
    "    return entity_classes"
   ]
  },
  {
   "cell_type": "code",
   "execution_count": 3,
   "metadata": {},
   "outputs": [
    {
     "data": {
      "text/plain": [
       "{'Athens': [('Settlement', 1),\n",
       "  ('City', 1),\n",
       "  ('Place', 1),\n",
       "  ('PopulatedPlace', 1),\n",
       "  ('Location', 1)],\n",
       " 'AEK_Athens_F.C.': [('Organisation', 2),\n",
       "  ('SoccerClub', 2),\n",
       "  ('Agent', 2),\n",
       "  ('SportsClub', 2)],\n",
       " 'Athens,_Georgia': [('Settlement', 3),\n",
       "  ('City', 3),\n",
       "  ('Place', 3),\n",
       "  ('PopulatedPlace', 3),\n",
       "  ('Location', 3)],\n",
       " 'Berlin': [('Settlement', 4),\n",
       "  ('City', 4),\n",
       "  ('Place', 4),\n",
       "  ('PopulatedPlace', 4),\n",
       "  ('Location', 4)],\n",
       " 'Atromitos_F.C.': [('Organisation', 5),\n",
       "  ('SoccerClub', 5),\n",
       "  ('Agent', 5),\n",
       "  ('SportsClub', 5)]}"
      ]
     },
     "execution_count": 3,
     "metadata": {},
     "output_type": "execute_result"
    }
   ],
   "source": [
    "entity_classes = dict()\n",
    "entity_classes = retrieve_dbpedia_classes('Athens',entity_classes,5)\n",
    "entity_classes"
   ]
  },
  {
   "cell_type": "code",
   "execution_count": null,
   "metadata": {},
   "outputs": [],
   "source": []
  }
 ],
 "metadata": {
  "kernelspec": {
   "display_name": "Python 3",
   "language": "python",
   "name": "python3"
  },
  "language_info": {
   "codemirror_mode": {
    "name": "ipython",
    "version": 3
   },
   "file_extension": ".py",
   "mimetype": "text/x-python",
   "name": "python",
   "nbconvert_exporter": "python",
   "pygments_lexer": "ipython3",
   "version": "3.7.3"
  }
 },
 "nbformat": 4,
 "nbformat_minor": 2
}
