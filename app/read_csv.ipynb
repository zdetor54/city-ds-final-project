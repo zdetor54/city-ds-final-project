{
    "cells": [
        {
            "cell_type": "code",
            "execution_count": 23,
            "source": [
                "\"\"\"\r\n",
                "lookup candidate entities and classes\r\n",
                "\"\"\"\r\n",
                "import os\r\n",
                "import pandas as pd\r\n",
                "import sys\r\n",
                "import argparse\r\n",
                "\r\n",
                "current_path = os.getcwd()\r\n",
                "parser = argparse.ArgumentParser()\r\n",
                "parser.add_argument(\r\n",
                "    '--input_dir',\r\n",
                "    type=str,\r\n",
                "    default=os.path.join(current_path, 'data'),\r\n",
                "    help='Directory of input/output')\r\n",
                "\r\n",
                "FLAGS, unparsed = parser.parse_known_args()\r\n",
                "# if not os.path.exists(FLAGS.input_dir):\r\n",
                "#     os.mkdir(FLAGS.input_dir)"
            ],
            "outputs": [],
            "metadata": {}
        },
        {
            "cell_type": "code",
            "execution_count": 11,
            "source": [
                "# Get all the csv files from the input directory\r\n",
                "csv_files = [f for f in os.listdir(FLAGS.input_dir) if os.path.isfile(os.path.join(FLAGS.input_dir, f))]"
            ],
            "outputs": [],
            "metadata": {}
        },
        {
            "cell_type": "code",
            "execution_count": 34,
            "source": [
                "# Read the config file that has the columns to be used for CTA from each of the csv_file. This is a subset of the file columns ignoring anything that is not an entity. Optional\r\n",
                "select_target_columns = True\r\n",
                "\r\n",
                "if select_target_columns:\r\n",
                "    target_col_file = os.path.join(FLAGS.input_dir, 'CTA_DBP_Round1_Targets.csv')\r\n",
                "    df_target_col = pd.read_csv(target_col_file,header=None, names=['filename','column_index'])\r\n",
                "    # for index, row in df_target_col.iterrows():\r\n",
                "    #     print(row['c1'], row['c2'])"
            ],
            "outputs": [],
            "metadata": {}
        },
        {
            "cell_type": "code",
            "execution_count": 18,
            "source": [
                "data = list()\r\n",
                "element = dict()\r\n",
                "\r\n",
                "\r\n",
                "\r\n",
                "for file in csv_files:\r\n",
                "    element['filename'] = file\r\n",
                "    element['data'] = list()\r\n",
                "    data.append(element)"
            ],
            "outputs": [],
            "metadata": {}
        },
        {
            "cell_type": "code",
            "execution_count": 35,
            "source": [
                "df_target_col"
            ],
            "outputs": [
                {
                    "output_type": "execute_result",
                    "data": {
                        "text/plain": [
                            "                                        filename  column_index\n",
                            "0           CTRL_DBP_BUS_automobile_manufacturer             0\n",
                            "1           CTRL_DBP_BUS_automobile_manufacturer             1\n",
                            "2           CTRL_DBP_BUS_automobile_manufacturer             2\n",
                            "3           CTRL_DBP_BUS_automobile_manufacturer             3\n",
                            "4    CTRL_DBP_BUS_automobile_manufacturer_NOISE2             0\n",
                            "..                                           ...           ...\n",
                            "535         TOUGH_WEB_MISSP_us_states_NOISE1_0.7             0\n",
                            "536         TOUGH_WEB_MISSP_us_states_NOISE1_0.8             0\n",
                            "537         TOUGH_WEB_MISSP_us_states_NOISE1_0.9             0\n",
                            "538             TOUGH_WEB_MISSP_us_states_NOISE2             0\n",
                            "539             TOUGH_WEB_MISSP_us_states_NOISE2             1\n",
                            "\n",
                            "[540 rows x 2 columns]"
                        ],
                        "text/html": [
                            "<div>\n",
                            "<style scoped>\n",
                            "    .dataframe tbody tr th:only-of-type {\n",
                            "        vertical-align: middle;\n",
                            "    }\n",
                            "\n",
                            "    .dataframe tbody tr th {\n",
                            "        vertical-align: top;\n",
                            "    }\n",
                            "\n",
                            "    .dataframe thead th {\n",
                            "        text-align: right;\n",
                            "    }\n",
                            "</style>\n",
                            "<table border=\"1\" class=\"dataframe\">\n",
                            "  <thead>\n",
                            "    <tr style=\"text-align: right;\">\n",
                            "      <th></th>\n",
                            "      <th>filename</th>\n",
                            "      <th>column_index</th>\n",
                            "    </tr>\n",
                            "  </thead>\n",
                            "  <tbody>\n",
                            "    <tr>\n",
                            "      <th>0</th>\n",
                            "      <td>CTRL_DBP_BUS_automobile_manufacturer</td>\n",
                            "      <td>0</td>\n",
                            "    </tr>\n",
                            "    <tr>\n",
                            "      <th>1</th>\n",
                            "      <td>CTRL_DBP_BUS_automobile_manufacturer</td>\n",
                            "      <td>1</td>\n",
                            "    </tr>\n",
                            "    <tr>\n",
                            "      <th>2</th>\n",
                            "      <td>CTRL_DBP_BUS_automobile_manufacturer</td>\n",
                            "      <td>2</td>\n",
                            "    </tr>\n",
                            "    <tr>\n",
                            "      <th>3</th>\n",
                            "      <td>CTRL_DBP_BUS_automobile_manufacturer</td>\n",
                            "      <td>3</td>\n",
                            "    </tr>\n",
                            "    <tr>\n",
                            "      <th>4</th>\n",
                            "      <td>CTRL_DBP_BUS_automobile_manufacturer_NOISE2</td>\n",
                            "      <td>0</td>\n",
                            "    </tr>\n",
                            "    <tr>\n",
                            "      <th>...</th>\n",
                            "      <td>...</td>\n",
                            "      <td>...</td>\n",
                            "    </tr>\n",
                            "    <tr>\n",
                            "      <th>535</th>\n",
                            "      <td>TOUGH_WEB_MISSP_us_states_NOISE1_0.7</td>\n",
                            "      <td>0</td>\n",
                            "    </tr>\n",
                            "    <tr>\n",
                            "      <th>536</th>\n",
                            "      <td>TOUGH_WEB_MISSP_us_states_NOISE1_0.8</td>\n",
                            "      <td>0</td>\n",
                            "    </tr>\n",
                            "    <tr>\n",
                            "      <th>537</th>\n",
                            "      <td>TOUGH_WEB_MISSP_us_states_NOISE1_0.9</td>\n",
                            "      <td>0</td>\n",
                            "    </tr>\n",
                            "    <tr>\n",
                            "      <th>538</th>\n",
                            "      <td>TOUGH_WEB_MISSP_us_states_NOISE2</td>\n",
                            "      <td>0</td>\n",
                            "    </tr>\n",
                            "    <tr>\n",
                            "      <th>539</th>\n",
                            "      <td>TOUGH_WEB_MISSP_us_states_NOISE2</td>\n",
                            "      <td>1</td>\n",
                            "    </tr>\n",
                            "  </tbody>\n",
                            "</table>\n",
                            "<p>540 rows × 2 columns</p>\n",
                            "</div>"
                        ]
                    },
                    "metadata": {},
                    "execution_count": 35
                }
            ],
            "metadata": {}
        },
        {
            "cell_type": "code",
            "execution_count": null,
            "source": [],
            "outputs": [],
            "metadata": {}
        }
    ],
    "metadata": {
        "orig_nbformat": 4,
        "language_info": {
            "name": "python",
            "version": "3.8.3",
            "mimetype": "text/x-python",
            "codemirror_mode": {
                "name": "ipython",
                "version": 3
            },
            "pygments_lexer": "ipython3",
            "nbconvert_exporter": "python",
            "file_extension": ".py"
        },
        "kernelspec": {
            "name": "python3",
            "display_name": "Python 3.8.3 64-bit"
        },
        "interpreter": {
            "hash": "2db524e06e9f5f4ffedc911c917cb75e12dbc923643829bf417064a77eb14d37"
        }
    },
    "nbformat": 4,
    "nbformat_minor": 2
}