{
 "cells": [
  {
   "cell_type": "code",
   "execution_count": 2,
   "metadata": {},
   "outputs": [],
   "source": [
    "from rdflib import Graph\n",
    "from SPARQLWrapper import SPARQLWrapper, JSON, N3\n",
    "from pprint import pprint\n",
    "import requests"
   ]
  },
  {
   "cell_type": "code",
   "execution_count": 3,
   "metadata": {},
   "outputs": [
    {
     "name": "stdout",
     "output_type": "stream",
     "text": [
      "###################Wien########################\n",
      "###################Thessaloniki########################\n",
      "Place\n",
      "Location\n",
      "City\n",
      "Settlement\n",
      "PopulatedPlace\n",
      "###################Batumi########################\n",
      "Place\n",
      "Location\n",
      "City\n",
      "Settlement\n",
      "PopulatedPlace\n",
      "###################Limassol########################\n",
      "Place\n",
      "Location\n",
      "City\n",
      "Settlement\n",
      "PopulatedPlace\n",
      "###################Ganja########################\n",
      "###################Capital City of Budapest########################\n",
      "###################Kharkiv (Харків)########################\n",
      "###################Luzern########################\n",
      "###################Korzeniew########################\n",
      "Place\n",
      "Location\n",
      "Settlement\n",
      "Village\n",
      "PopulatedPlace\n",
      "###################Almaty########################\n",
      "Place\n",
      "Location\n",
      "City\n",
      "Settlement\n",
      "PopulatedPlace\n",
      "###################Kaunas########################\n",
      "Place\n",
      "Location\n",
      "City\n",
      "Settlement\n",
      "PopulatedPlace\n",
      "###################Haraçinë########################\n",
      "###################Poitiers########################\n",
      "Place\n",
      "Location\n",
      "City\n",
      "Settlement\n",
      "PopulatedPlace\n",
      "###################Tallinn########################\n",
      "Place\n",
      "Location\n",
      "City\n",
      "Settlement\n",
      "PopulatedPlace\n",
      "###################Ljubljana########################\n",
      "Place\n",
      "Location\n",
      "City\n",
      "Settlement\n",
      "PopulatedPlace\n",
      "###################Երևան########################\n",
      "###################Pristina########################\n",
      "Place\n",
      "Location\n",
      "Settlement\n",
      "Town\n",
      "PopulatedPlace\n",
      "###################Tuzla########################\n",
      "Place\n",
      "Location\n",
      "City\n",
      "Settlement\n",
      "PopulatedPlace\n",
      "###################Bergen########################\n",
      "Place\n",
      "Location\n",
      "City\n",
      "Settlement\n",
      "PopulatedPlace\n",
      "###################Budapest főváros########################\n",
      "###################Istanbul########################\n",
      "Place\n",
      "Location\n",
      "City\n",
      "Settlement\n",
      "PopulatedPlace\n",
      "###################Cwmffrwd########################\n",
      "Place\n",
      "Location\n",
      "Settlement\n",
      "Village\n",
      "PopulatedPlace\n",
      "###################Yerevan########################\n",
      "Place\n",
      "Location\n",
      "City\n",
      "Settlement\n",
      "PopulatedPlace\n"
     ]
    },
    {
     "data": {
      "text/plain": [
       "{'City',\n",
       " 'Location',\n",
       " 'Place',\n",
       " 'PopulatedPlace',\n",
       " 'Settlement',\n",
       " 'Town',\n",
       " 'Village'}"
      ]
     },
     "execution_count": 3,
     "metadata": {},
     "output_type": "execute_result"
    }
   ],
   "source": [
    "\n",
    "candidate_cells = ['Wien', 'Thessaloniki', 'Batumi', 'Limassol', 'Ganja'\n",
    ", 'Capital City of Budapest', 'Kharkiv (Харків)', 'Luzern', 'Korzeniew', 'Almaty', 'Kaunas', 'Haraçinë', 'Poitiers', 'Tallinn',\n",
    " 'Ljubljana', 'Երևան', 'Pristina', 'Tuzla', 'Bergen', 'Budapest főváros', 'Istanbul', 'Cwmffrwd', 'Yerevan']\n",
    "\n",
    "def dbo_sparql_results(query_string):\n",
    "    sparql = SPARQLWrapper('https://dbpedia.org/sparql')\n",
    "    sparql.setQuery(query_string)\n",
    "    \n",
    "    try:\n",
    "        sparql.setReturnFormat(JSON)\n",
    "        qres = sparql.query().convert()\n",
    "        return qres\n",
    "    except:\n",
    "        pass\n",
    "\n",
    "\n",
    "def get_dbo_classes_sparql(candidate_cells):\n",
    "    \n",
    "    classes = list([])\n",
    "\n",
    "    dbo_prefix = 'http://dbpedia.org/ontology/'\n",
    "    for cell in candidate_cells:\n",
    "        print(f'###################{cell}########################')\n",
    "        query_string = f'''\n",
    "        SELECT ?class\n",
    "        WHERE {{ dbr:{cell} a ?class.\n",
    "        }}'''\n",
    "    \n",
    "#         query_string = f'''\n",
    "#         select distinct ?superclass \n",
    "#         where {{dbr:{cell} rdf:type ?e. \n",
    "#             ?e rdfs:subClassOf* ?superclass.\n",
    "#         FILTER (strstarts(str(?superclass), '{dbo_prefix}'))}}'''\n",
    "        \n",
    "#         print(query_string)\n",
    "    \n",
    "        qres = dbo_sparql_results(query_string)\n",
    "#         pprint(qres)\n",
    "        try:\n",
    "            for entity_class in qres['results']['bindings']:\n",
    "                if dbo_prefix in entity_class[list(qres['results']['bindings'][1].keys())[0]]['value']:\n",
    "                    candicate_class = entity_class[list(qres['results']['bindings'][1].keys())[0]]['value'].split(dbo_prefix)[1]\n",
    "                    classes.append(candicate_class)\n",
    "                    print(candicate_class)\n",
    "        except:\n",
    "            pass\n",
    "    return set(classes)\n",
    "\n",
    "classes = get_dbo_classes_sparql(candidate_cells)\n",
    "classes"
   ]
  },
  {
   "cell_type": "code",
   "execution_count": 6,
   "metadata": {},
   "outputs": [
    {
     "name": "stdout",
     "output_type": "stream",
     "text": [
      "###################AdministrativeRegion########################\n"
     ]
    }
   ],
   "source": [
    "def get_dbo_class_entities_sparql(candidate_classes):\n",
    "    sparql = SPARQLWrapper('https://dbpedia.org/sparql')\n",
    "    \n",
    "    general_entities = list([])\n",
    "\n",
    "    dbp_prefix = 'http://dbpedia.org/resource/'\n",
    "    for candidate_class in candidate_classes:\n",
    "        print(f'###################{candidate_class}########################')\n",
    "        sparql.setQuery(f'''\n",
    "        SELECT ?object\n",
    "        WHERE {{ ?object a dbo:{candidate_class}. }}\n",
    "        ORDER BY RAND()\n",
    "        LIMIT 1000\n",
    "        OFFSET 10000\n",
    "        # OFFSET \"\"\" + str(i) + \"0000\"\n",
    "        ''')\n",
    "    \n",
    "        try:\n",
    "            sparql.setReturnFormat(JSON)\n",
    "            qres = sparql.query().convert()\n",
    "#             pprint(qres)\n",
    "            for entity in qres['results']['bindings']:\n",
    "#                 print(entity['object']['value'].split(dbp_prefix)[1])\n",
    "                general_entities.append(entity['object']['value'].split(dbp_prefix)[1])\n",
    "#                 if dbo_prefix in entity_class['class']['value']:\n",
    "#                     candicate_class = entity_class['class']['value'].split(dbo_prefix)[1]\n",
    "#                     classes.append(candicate_class)\n",
    "#                     print(candicate_class)\n",
    "        except:\n",
    "            pass\n",
    "        \n",
    "    return general_entities\n",
    "\n",
    "general_entities = get_dbo_class_entities_sparql(['AdministrativeRegion'])"
   ]
  },
  {
   "cell_type": "code",
   "execution_count": 9,
   "metadata": {},
   "outputs": [],
   "source": [
    "# general_entities"
   ]
  },
  {
   "cell_type": "code",
   "execution_count": 5,
   "metadata": {},
   "outputs": [
    {
     "data": {
      "text/plain": [
       "['Janowo,_Łomża_County',\n",
       " 'Kampong_Lugu',\n",
       " 'Cehnice',\n",
       " 'Chenarestan-e_Sofla',\n",
       " 'Łukowiec,_Kuyavian-Pomeranian_Voivodeship',\n",
       " 'Enford',\n",
       " 'Baikunthapur',\n",
       " 'Wyton,_Cambridgeshire',\n",
       " 'Topoľníky',\n",
       " 'Němčice_(Strakonice_District)']"
      ]
     },
     "execution_count": 5,
     "metadata": {},
     "output_type": "execute_result"
    }
   ],
   "source": [
    "general_entities"
   ]
  },
  {
   "cell_type": "code",
   "execution_count": 6,
   "metadata": {},
   "outputs": [
    {
     "ename": "NameError",
     "evalue": "name 'sparql' is not defined",
     "output_type": "error",
     "traceback": [
      "\u001b[1;31m---------------------------------------------------------------------------\u001b[0m",
      "\u001b[1;31mNameError\u001b[0m                                 Traceback (most recent call last)",
      "\u001b[1;32m<ipython-input-6-1e244b4a732e>\u001b[0m in \u001b[0;36m<module>\u001b[1;34m\u001b[0m\n\u001b[0;32m     17\u001b[0m     \u001b[1;32mreturn\u001b[0m \u001b[0mclasses\u001b[0m\u001b[1;33m\u001b[0m\u001b[1;33m\u001b[0m\u001b[0m\n\u001b[0;32m     18\u001b[0m \u001b[1;33m\u001b[0m\u001b[0m\n\u001b[1;32m---> 19\u001b[1;33m \u001b[0mtemp\u001b[0m \u001b[1;33m=\u001b[0m \u001b[0mquery_complete_classes_of_entity\u001b[0m\u001b[1;33m(\u001b[0m\u001b[1;34m'Athens'\u001b[0m\u001b[1;33m)\u001b[0m\u001b[1;33m\u001b[0m\u001b[1;33m\u001b[0m\u001b[0m\n\u001b[0m",
      "\u001b[1;32m<ipython-input-6-1e244b4a732e>\u001b[0m in \u001b[0;36mquery_complete_classes_of_entity\u001b[1;34m(ent)\u001b[0m\n\u001b[0;32m      3\u001b[0m     \u001b[0mclasses\u001b[0m \u001b[1;33m=\u001b[0m \u001b[0mset\u001b[0m\u001b[1;33m(\u001b[0m\u001b[1;33m)\u001b[0m\u001b[1;33m\u001b[0m\u001b[1;33m\u001b[0m\u001b[0m\n\u001b[0;32m      4\u001b[0m     \u001b[1;32mtry\u001b[0m\u001b[1;33m:\u001b[0m\u001b[1;33m\u001b[0m\u001b[1;33m\u001b[0m\u001b[0m\n\u001b[1;32m----> 5\u001b[1;33m         \u001b[0ms\u001b[0m \u001b[1;33m=\u001b[0m \u001b[0msparql\u001b[0m\u001b[1;33m.\u001b[0m\u001b[0mService\u001b[0m\u001b[1;33m(\u001b[0m\u001b[1;34m'http://dbpedia.org/sparql'\u001b[0m\u001b[1;33m,\u001b[0m \u001b[1;34m\"utf-8\"\u001b[0m\u001b[1;33m,\u001b[0m \u001b[1;34m\"GET\"\u001b[0m\u001b[1;33m)\u001b[0m\u001b[1;33m\u001b[0m\u001b[1;33m\u001b[0m\u001b[0m\n\u001b[0m\u001b[0;32m      6\u001b[0m         \u001b[0mstatement\u001b[0m \u001b[1;33m=\u001b[0m \u001b[1;34m'select distinct ?superclass where { <%s%s> rdf:type ?e. '\u001b[0m\u001b[0;31m \u001b[0m\u001b[0;31m\\\u001b[0m\u001b[1;33m\u001b[0m\u001b[1;33m\u001b[0m\u001b[0m\n\u001b[0;32m      7\u001b[0m             \u001b[1;34m'?e rdfs:subClassOf* ?superclass. FILTER(strstarts(str(?superclass), \"%s\"))}'\u001b[0m\u001b[0;31m \u001b[0m\u001b[0;31m\\\u001b[0m\u001b[1;33m\u001b[0m\u001b[1;33m\u001b[0m\u001b[0m\n",
      "\u001b[1;31mNameError\u001b[0m: name 'sparql' is not defined"
     ]
    }
   ],
   "source": [
    "# Query DBPedia for an entity's complete classes\n",
    "def query_complete_classes_of_entity(ent):\n",
    "    classes = set()\n",
    "    try:\n",
    "        s = sparql.Service('http://dbpedia.org/sparql', \"utf-8\", \"GET\")\n",
    "        statement = 'select distinct ?superclass where { <%s%s> rdf:type ?e. ' \\\n",
    "            '?e rdfs:subClassOf* ?superclass. FILTER(strstarts(str(?superclass), \"%s\"))}' \\\n",
    "            % (dbp_prefix, ent, dbo_prefix)\n",
    "        result = s.query(statement)\n",
    "        for row in result.fetchone():\n",
    "            cls_uri = str(row[0])\n",
    "            cls = cls_uri.split(dbo_prefix)[1]\n",
    "            classes.add(cls)\n",
    "    except UnicodeDecodeError:\n",
    "        print('     %s: UnicodeDecodeError' % ent)\n",
    "        pass\n",
    "    return classes\n",
    "\n",
    "temp = query_complete_classes_of_entity('Athens')"
   ]
  },
  {
   "cell_type": "code",
   "execution_count": null,
   "metadata": {},
   "outputs": [],
   "source": []
  },
  {
   "cell_type": "code",
   "execution_count": null,
   "metadata": {},
   "outputs": [],
   "source": []
  },
  {
   "cell_type": "code",
   "execution_count": null,
   "metadata": {},
   "outputs": [],
   "source": []
  },
  {
   "cell_type": "code",
   "execution_count": null,
   "metadata": {},
   "outputs": [],
   "source": []
  },
  {
   "cell_type": "code",
   "execution_count": null,
   "metadata": {},
   "outputs": [],
   "source": []
  },
  {
   "cell_type": "code",
   "execution_count": null,
   "metadata": {},
   "outputs": [],
   "source": []
  },
  {
   "cell_type": "code",
   "execution_count": null,
   "metadata": {},
   "outputs": [],
   "source": []
  },
  {
   "cell_type": "code",
   "execution_count": null,
   "metadata": {},
   "outputs": [],
   "source": []
  }
 ],
 "metadata": {
  "kernelspec": {
   "display_name": "Python 3",
   "language": "python",
   "name": "python3"
  },
  "language_info": {
   "codemirror_mode": {
    "name": "ipython",
    "version": 3
   },
   "file_extension": ".py",
   "mimetype": "text/x-python",
   "name": "python",
   "nbconvert_exporter": "python",
   "pygments_lexer": "ipython3",
   "version": "3.7.3"
  }
 },
 "nbformat": 4,
 "nbformat_minor": 2
}
